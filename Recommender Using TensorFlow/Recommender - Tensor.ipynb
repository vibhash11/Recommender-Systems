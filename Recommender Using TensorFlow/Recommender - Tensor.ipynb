{
 "cells": [
  {
   "cell_type": "markdown",
   "metadata": {},
   "source": [
    "# Modules and Cleaning"
   ]
  },
  {
   "cell_type": "code",
   "execution_count": 1,
   "metadata": {
    "collapsed": true
   },
   "outputs": [],
   "source": [
    "import pandas as pd\n",
    "import numpy as np\n",
    "import tensorflow as tf\n",
    "import pickle\n",
    "loc = \"./Datasets/Movie_Lens_100k(Small)/\"\n",
    "links = pd.read_csv(loc+\"links.csv\")\n",
    "movies = pd.read_csv(loc+\"movies.csv\")\n",
    "ratings = pd.read_csv(loc+\"new_ratings.csv\")\n",
    "tags = pd.read_csv(loc+\"tags.csv\")"
   ]
  },
  {
   "cell_type": "code",
   "execution_count": 2,
   "metadata": {
    "collapsed": true
   },
   "outputs": [],
   "source": [
    "msk = np.random.rand(len(ratings)) < 0.7\n",
    "ratings_train = ratings[msk]\n",
    "ratings_train = ratings_train[['userId','movieId','rating']]\n",
    "user_index = [x-1 for x in ratings_train.userId.values]\n",
    "movie_index= [x for x in ratings_train.movieId.values]\n",
    "rates = ratings_train.rating.values\n",
    "ratings_test = ratings[~msk]"
   ]
  },
  {
   "cell_type": "markdown",
   "metadata": {
    "collapsed": true
   },
   "source": [
    "# Variables"
   ]
  },
  {
   "cell_type": "code",
   "execution_count": 3,
   "metadata": {
    "collapsed": true
   },
   "outputs": [],
   "source": [
    "feature_len = 10\n",
    "U = tf.Variable(initial_value=tf.truncated_normal([671,feature_len]), name='users')\n",
    "P = tf.Variable(initial_value=tf.truncated_normal([feature_len,9125]), name='movies')\n",
    "result = tf.matmul(U, P)\n",
    "result_flatten = tf.reshape(result, [-1])\n",
    "R = tf.gather(result_flatten, user_index * tf.shape(result)[1] + \n",
    "              movie_index, name='extracting_user_rate')"
   ]
  },
  {
   "cell_type": "markdown",
   "metadata": {},
   "source": [
    "# Cost Function"
   ]
  },
  {
   "cell_type": "code",
   "execution_count": 4,
   "metadata": {
    "collapsed": true
   },
   "outputs": [],
   "source": [
    "diff_op = tf.subtract(R, rates, name='trainig_diff')\n",
    "diff_op_squared = tf.abs(diff_op, name=\"squared_difference\")\n",
    "base_cost = tf.reduce_sum(diff_op_squared, name=\"sum_squared_error\")"
   ]
  },
  {
   "cell_type": "markdown",
   "metadata": {},
   "source": [
    "# Regularization"
   ]
  },
  {
   "cell_type": "code",
   "execution_count": 5,
   "metadata": {},
   "outputs": [],
   "source": [
    "lda = tf.constant(.001, name='lambda')\n",
    "norm_sums = tf.add(tf.reduce_sum(tf.abs(U, name='user_abs'), name='user_norm'), \n",
    "   tf.reduce_sum(tf.abs(P, name='movie_abs'), name='movie_norm'))\n",
    "regularizer = tf.multiply(norm_sums, lda, 'regularizer')\n",
    "cost = tf.add(base_cost, regularizer)"
   ]
  },
  {
   "cell_type": "code",
   "execution_count": 6,
   "metadata": {
    "collapsed": true
   },
   "outputs": [],
   "source": [
    "lr = tf.constant(.001, name='learning_rate')\n",
    "global_step = tf.Variable(0, trainable=False)\n",
    "learning_rate = tf.train.exponential_decay(lr, global_step, 10000, 0.96, staircase=True)\n",
    "optimizer = tf.train.GradientDescentOptimizer(learning_rate)\n",
    "training_step = optimizer.minimize(cost, global_step=global_step)"
   ]
  },
  {
   "cell_type": "markdown",
   "metadata": {},
   "source": [
    "# Running Session and Predicting"
   ]
  },
  {
   "cell_type": "code",
   "execution_count": 7,
   "metadata": {
    "collapsed": true
   },
   "outputs": [],
   "source": [
    "sess = tf.Session()\n",
    "init = tf.global_variables_initializer()\n",
    "sess.run(init)\n",
    "for i in range(1000):\n",
    "    sess.run(training_step)"
   ]
  },
  {
   "cell_type": "code",
   "execution_count": 8,
   "metadata": {},
   "outputs": [
    {
     "name": "stdout",
     "output_type": "stream",
     "text": [
      "rating for user 4.0 for item 537.0 is 4.0 and our prediction is: 4.24103\n"
     ]
    }
   ],
   "source": [
    "u, p, r = ratings[['userId', 'movieId', 'rating']].values[178]\n",
    "rhat = tf.gather(tf.gather(result, int(u-1)),int(p))\n",
    "print(\"rating for user \" + str(u) + \" for item \" + str(p) + \" is \" + str(r) + \" and our prediction is: \" + str(sess.run(rhat)))"
   ]
  },
  {
   "cell_type": "markdown",
   "metadata": {},
   "source": [
    "# Accuracy"
   ]
  },
  {
   "cell_type": "code",
   "execution_count": 9,
   "metadata": {},
   "outputs": [
    {
     "name": "stdout",
     "output_type": "stream",
     "text": [
      "0.614734\n"
     ]
    }
   ],
   "source": [
    "user_index_test = [x-1 for x in ratings_test.userId.values]\n",
    "movie_index_test = [x for x in ratings_test.movieId.values]\n",
    "rates_test = ratings_test.rating.values\n",
    "\n",
    "R_test = tf.gather(result_flatten, user_index_test * tf.shape(result)[1] + movie_index_test, name='extracting_user_rate_test')\n",
    "diff_op_test = tf.subtract(R_test, rates_test, name='test_diff')\n",
    "diff_op_squared_test = tf.abs(diff_op, name=\"squared_difference_test\")\n",
    "\n",
    "cost_test = tf.div(tf.reduce_sum(tf.square(diff_op_squared_test, name=\"squared_difference_test\"), name=\"sum_squared_error_test\"),\n",
    "                   ratings_test.shape[0] * 2, name=\"average_error\")\n",
    "print(sess.run(cost_test))"
   ]
  },
  {
   "cell_type": "code",
   "execution_count": null,
   "metadata": {
    "collapsed": true
   },
   "outputs": [],
   "source": []
  }
 ],
 "metadata": {
  "kernelspec": {
   "display_name": "Python 3",
   "language": "python",
   "name": "python3"
  },
  "language_info": {
   "codemirror_mode": {
    "name": "ipython",
    "version": 3
   },
   "file_extension": ".py",
   "mimetype": "text/x-python",
   "name": "python",
   "nbconvert_exporter": "python",
   "pygments_lexer": "ipython3",
   "version": "3.5.2"
  }
 },
 "nbformat": 4,
 "nbformat_minor": 2
}
