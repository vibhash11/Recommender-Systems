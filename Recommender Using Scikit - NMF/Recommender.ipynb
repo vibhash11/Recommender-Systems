{
 "cells": [
  {
   "cell_type": "markdown",
   "metadata": {},
   "source": [
    "# Importing Required Modules and loading CSV files into panda dataframes"
   ]
  },
  {
   "cell_type": "code",
   "execution_count": 2,
   "metadata": {
    "collapsed": true
   },
   "outputs": [],
   "source": [
    "import pandas as pd\n",
    "import numpy as np\n",
    "import pickle\n",
    "loc = \"./Datasets/Movie_Lens_100k(Small)/\"\n",
    "links = pd.read_csv(loc+\"links.csv\")\n",
    "movies = pd.read_csv(loc+\"movies.csv\")\n",
    "ratings = pd.read_csv(loc+\"new_ratings.csv\")\n",
    "tags = pd.read_csv(loc+\"tags.csv\")"
   ]
  },
  {
   "cell_type": "markdown",
   "metadata": {},
   "source": [
    "# Creating 'stars' Numpy 2-d array"
   ]
  },
  {
   "cell_type": "markdown",
   "metadata": {},
   "source": [
    "This 2-d array will be fed into the matrix_factorization function. \n",
    "1. Number of rows = number of users \n",
    "2. Number of columns = number of movies\n",
    "3. stars[user][movie] = rating given by the user"
   ]
  },
  {
   "cell_type": "code",
   "execution_count": 13,
   "metadata": {},
   "outputs": [],
   "source": [
    "rows = ratings['userId'].max() #number of users starts from 1 and ends at 671, changing it to 0-670, so total = 671\n",
    "columns = len(movies.index)  #number of movies 0 to 9124, so total = 9125\n",
    "stars = np.zeros((rows,columns))\n",
    "for r in ratings.index:\n",
    "    ith= int(ratings.loc[r,'userId'])-1 \n",
    "    jth = int(ratings.loc[r,'movieId'])\n",
    "    rated = ratings.loc[r,'rating']\n",
    "    stars[ith][jth] = rated"
   ]
  },
  {
   "cell_type": "markdown",
   "metadata": {},
   "source": [
    "# Calculating ' Estimated Ranking ' 2-d Array R"
   ]
  },
  {
   "cell_type": "code",
   "execution_count": 59,
   "metadata": {},
   "outputs": [],
   "source": [
    "from sklearn.decomposition import NMF\n",
    "model = NMF(n_components=10,max_iter=1000)\n",
    "P = model.fit_transform(stars)\n",
    "Q = model.fit_transform(stars.T)\n",
    "R = np.dot(P,Q.T)"
   ]
  },
  {
   "cell_type": "code",
   "execution_count": 71,
   "metadata": {},
   "outputs": [
    {
     "name": "stdout",
     "output_type": "stream",
     "text": [
      "[ 744  733  951 1006  535]\n",
      "Fargo (1996)\n",
      "   userId  movieId  rating\n",
      "0       1       30     2.5\n",
      "1       1      833     3.0\n",
      "2       1      859     3.0\n",
      "3       1      906     2.0\n",
      "4       1      931     4.0\n"
     ]
    }
   ],
   "source": [
    "print(np.argsort(-R[0])[:5])\n",
    "print(movies.iloc[535]['title'])\n",
    "print(ratings[['userId','movieId','rating']].head())"
   ]
  },
  {
   "cell_type": "markdown",
   "metadata": {},
   "source": [
    "# Pickling Rate matrix and Estimated Rating matrix"
   ]
  },
  {
   "cell_type": "code",
   "execution_count": 54,
   "metadata": {
    "collapsed": true
   },
   "outputs": [],
   "source": [
    "save_file = open(\"rating.pickle\",\"wb\")\n",
    "pickle.dump(stars,save_file)\n",
    "save_file.close()\n",
    "save_file = open(\"estimated_rating.pickle\",\"wb\")\n",
    "pickle.dump(R,save_file)\n",
    "save_file.close()"
   ]
  },
  {
   "cell_type": "markdown",
   "metadata": {},
   "source": [
    "# Loading Pickles"
   ]
  },
  {
   "cell_type": "code",
   "execution_count": 55,
   "metadata": {
    "collapsed": true
   },
   "outputs": [],
   "source": [
    "saved_file = open(\"rating.pickle\",\"rb\")\n",
    "stars = pickle.load(saved_file)\n",
    "saved_file = open(\"estimated_rating.pickle\",\"rb\")\n",
    "R = pickle.load(saved_file)\n",
    "saved_file.close()"
   ]
  },
  {
   "cell_type": "markdown",
   "metadata": {},
   "source": [
    "# Returns recommendation based on user id"
   ]
  },
  {
   "cell_type": "code",
   "execution_count": 56,
   "metadata": {
    "collapsed": true
   },
   "outputs": [],
   "source": [
    "def recommend(user_id):\n",
    "    for_user = np.argsort(-R[user_id])\n",
    "    i ,j = 0,0\n",
    "    recommendations = []\n",
    "    while i<5:\n",
    "        if stars[user_id][for_user[j]]==0.0:\n",
    "            recommendations.append(movies.iloc[for_user[j]]['title'])\n",
    "            i+=1\n",
    "        j+=1\n",
    "    return '\\n'.join(recommendations)"
   ]
  },
  {
   "cell_type": "code",
   "execution_count": 64,
   "metadata": {
    "scrolled": true
   },
   "outputs": [
    {
     "name": "stdout",
     "output_type": "stream",
     "text": [
      "Enter User_id: \n",
      "1\n",
      "Recommendations:\n",
      "Citizen Kane (1941)\n",
      "Casablanca (1942)\n",
      "One Flew Over the Cuckoo's Nest (1975)\n",
      "Chinatown (1974)\n",
      "Fargo (1996)\n"
     ]
    }
   ],
   "source": [
    "print(\"Enter User_id: \")\n",
    "print(\"Recommendations:\\n\"+recommend(int(input())-1))"
   ]
  },
  {
   "cell_type": "markdown",
   "metadata": {
    "collapsed": true
   },
   "source": [
    "# Accuracy"
   ]
  },
  {
   "cell_type": "code",
   "execution_count": 67,
   "metadata": {},
   "outputs": [],
   "source": [
    "msk = np.random.rand(len(ratings)) < 0.7\n",
    "ratings_train = ratings[msk]\n",
    "ratings_train = ratings_train[['userId','movieId','rating']]\n",
    "ratings_test = ratings[~msk]\n",
    "ratings_test = ratings_test[['userId','movieId','rating']]"
   ]
  },
  {
   "cell_type": "code",
   "execution_count": null,
   "metadata": {
    "collapsed": true
   },
   "outputs": [],
   "source": []
  }
 ],
 "metadata": {
  "kernelspec": {
   "display_name": "Python 3",
   "language": "python",
   "name": "python3"
  },
  "language_info": {
   "codemirror_mode": {
    "name": "ipython",
    "version": 3
   },
   "file_extension": ".py",
   "mimetype": "text/x-python",
   "name": "python",
   "nbconvert_exporter": "python",
   "pygments_lexer": "ipython3",
   "version": "3.5.2"
  }
 },
 "nbformat": 4,
 "nbformat_minor": 2
}
