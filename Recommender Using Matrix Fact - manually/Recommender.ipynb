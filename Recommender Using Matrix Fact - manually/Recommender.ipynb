{
 "cells": [
  {
   "cell_type": "markdown",
   "metadata": {},
   "source": [
    "# Importing Required Modules and loading CSV files into panda dataframes"
   ]
  },
  {
   "cell_type": "code",
   "execution_count": null,
   "metadata": {
    "collapsed": true
   },
   "outputs": [],
   "source": [
    "import pandas as pd\n",
    "import numpy as np\n",
    "import pickle\n",
    "from mat_fac import matrix_factorization as MF\n",
    "import scipy.sparse as sp\n",
    "import nimfa\n",
    "loc = \"./Datasets/Movie_Lens_100k(Small)/\"\n",
    "links = pd.read_csv(loc+\"links.csv\")\n",
    "movies = pd.read_csv(loc+\"movies.csv\")\n",
    "ratings = pd.read_csv(loc+\"new_ratings.csv\")\n",
    "tags = pd.read_csv(loc+\"tags.csv\")"
   ]
  },
  {
   "cell_type": "markdown",
   "metadata": {},
   "source": [
    "# Creating 'stars' Numpy 2-d array"
   ]
  },
  {
   "cell_type": "markdown",
   "metadata": {},
   "source": [
    "This 2-d array will be fed into the matrix_factorization function. \n",
    "1. Number of rows = number of users \n",
    "2. Number of columns = number of movies\n",
    "3. stars[user][movie] = rating given by the user"
   ]
  },
  {
   "cell_type": "code",
   "execution_count": null,
   "metadata": {
    "collapsed": true
   },
   "outputs": [],
   "source": [
    "rows = ratings['userId'].max() #number of users starts from 1 and ends at 671, changing it to 0-670*, so total = 671\n",
    "columns = len(movies.index)  #number of movies 0 to 9124, so total = 9125\n",
    "stars = np.zeros((rows,columns))\n",
    "stars_train = np.zeros((rows,columns))\n",
    "stars_test = np.zeros((rows,columns))\n",
    "\n",
    "# splitting for training and testing\n",
    "msk = np.random.rand(len(ratings)) <= 0.7\n",
    "ratings_train = ratings[msk]\n",
    "ratings_test = ratings[~msk]\n",
    "\n",
    "for r in ratings.index:\n",
    "    ith= int(ratings.loc[r,'userId'])-1 # *changing it to 0-670 \n",
    "    jth = int(ratings.loc[r,'movieId'])\n",
    "    rated = ratings.loc[r,'rating']\n",
    "    stars[ith,jth] = rated\n",
    "    \n",
    "for r in ratings_train.index:\n",
    "    ith= int(ratings_train.loc[r,'userId'])-1 \n",
    "    jth = int(ratings_train.loc[r,'movieId'])\n",
    "    rated = ratings_train.loc[r,'rating']\n",
    "    stars_train[ith,jth] = rated"
   ]
  },
  {
   "cell_type": "markdown",
   "metadata": {},
   "source": [
    "# Calculating ' Estimated Ranking ' 2-d Array R"
   ]
  },
  {
   "cell_type": "markdown",
   "metadata": {},
   "source": [
    "# Using NMF, Truncated SVD"
   ]
  },
  {
   "cell_type": "markdown",
   "metadata": {},
   "source": [
    "Conversion of stars_train to sparse matrix required to be used in the algos"
   ]
  },
  {
   "cell_type": "code",
   "execution_count": null,
   "metadata": {
    "collapsed": true
   },
   "outputs": [],
   "source": [
    "train = sp.lil_matrix(stars_train)"
   ]
  },
  {
   "cell_type": "code",
   "execution_count": null,
   "metadata": {},
   "outputs": [],
   "source": [
    "from scipy.sparse.linalg import svds\n",
    "u,s, vt = svds(train, k = 500)\n",
    "s_diag_matrix = np.zeros((s.shape[0], s.shape[0]))\n",
    "for i in range(s.shape[0]):\n",
    "    s_diag_matrix[i,i] = s[i]\n",
    "Rt = np.dot(np.dot(u, s_diag_matrix), vt)\n",
    "R1 = []\n",
    "for i in Rt:\n",
    "    i = ((i-min(i))/(max(i)-min(i)))*5\n",
    "    R1.append(i)\n",
    "R1 = np.array(R1)\n",
    "print(R1)"
   ]
  },
  {
   "cell_type": "code",
   "execution_count": null,
   "metadata": {},
   "outputs": [],
   "source": [
    "import nmf\n",
    "P,Q  = nmf.nmf(train,500,max_iter=100)\n",
    "R2 = np.dot(P,Q)\n",
    "print(R2)"
   ]
  },
  {
   "cell_type": "code",
   "execution_count": null,
   "metadata": {
    "collapsed": true
   },
   "outputs": [],
   "source": [
    "R = (R1+R2)/2"
   ]
  },
  {
   "cell_type": "markdown",
   "metadata": {},
   "source": [
    "# Pickling Rate matrix and Estimated Rating matrix"
   ]
  },
  {
   "cell_type": "code",
   "execution_count": null,
   "metadata": {
    "collapsed": true
   },
   "outputs": [],
   "source": [
    "save_file = open(\"estimated_rating.pickle\",\"wb\")\n",
    "pickle.dump(R,save_file)\n",
    "save_file.close()"
   ]
  },
  {
   "cell_type": "markdown",
   "metadata": {},
   "source": [
    "# Loading Pickles"
   ]
  },
  {
   "cell_type": "code",
   "execution_count": null,
   "metadata": {
    "collapsed": true
   },
   "outputs": [],
   "source": [
    "saved_file = open(\"estimated_rating.pickle\",\"rb\")\n",
    "R = pickle.load(saved_file)\n",
    "saved_file.close()"
   ]
  },
  {
   "cell_type": "markdown",
   "metadata": {},
   "source": [
    "# Returns recommendation based on user id"
   ]
  },
  {
   "cell_type": "code",
   "execution_count": null,
   "metadata": {
    "collapsed": true
   },
   "outputs": [],
   "source": [
    "def recommend(user_id):\n",
    "    for_user = np.argsort(-R[user_id])\n",
    "    i ,j = 0,0\n",
    "    recommendations = []\n",
    "    while i<5:\n",
    "        if stars[user_id][for_user[j]]==0.0:\n",
    "            recommendations.append(movies.iloc[for_user[j]]['title'])\n",
    "            i+=1\n",
    "        j+=1\n",
    "    return '\\n'.join(recommendations)"
   ]
  },
  {
   "cell_type": "code",
   "execution_count": null,
   "metadata": {
    "scrolled": false
   },
   "outputs": [],
   "source": [
    "print(\"Enter User_id: \")\n",
    "print(\"Recommendations:\\n\"+recommend(int(input())-1))"
   ]
  },
  {
   "cell_type": "markdown",
   "metadata": {
    "collapsed": true
   },
   "source": [
    "# Accuracy"
   ]
  },
  {
   "cell_type": "code",
   "execution_count": null,
   "metadata": {},
   "outputs": [],
   "source": [
    "import math\n",
    "rmse = 0\n",
    "mae = 0\n",
    "tot = 0\n",
    "for i in ratings_train.index:\n",
    "    ith= int(ratings_train.loc[i,'userId'])-1 \n",
    "    jth = int(ratings_train.loc[i,'movieId'])\n",
    "    rated = ratings_train.loc[i,'rating']\n",
    "    e=abs(rated-R[ith][jth])\n",
    "    mae+=e\n",
    "    rmse+=math.pow(e,2)\n",
    "    tot+=1\n",
    "rmse = math.sqrt(rmse/tot)\n",
    "mae/=tot\n",
    "print(rmse)\n",
    "print(mae)"
   ]
  },
  {
   "cell_type": "code",
   "execution_count": null,
   "metadata": {
    "collapsed": true
   },
   "outputs": [],
   "source": []
  }
 ],
 "metadata": {
  "kernelspec": {
   "display_name": "Python 3",
   "language": "python",
   "name": "python3"
  },
  "language_info": {
   "codemirror_mode": {
    "name": "ipython",
    "version": 3
   },
   "file_extension": ".py",
   "mimetype": "text/x-python",
   "name": "python",
   "nbconvert_exporter": "python",
   "pygments_lexer": "ipython3",
   "version": "3.5.2"
  }
 },
 "nbformat": 4,
 "nbformat_minor": 2
}
